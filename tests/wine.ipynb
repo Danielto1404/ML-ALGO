{
 "cells": [
  {
   "cell_type": "code",
   "execution_count": null,
   "metadata": {},
   "outputs": [],
   "source": [
    "import sklearn.datasets as ds\n",
    "import numpy as np"
   ]
  },
  {
   "cell_type": "code",
   "execution_count": null,
   "metadata": {},
   "outputs": [],
   "source": [
    "from sklearn.metrics import accuracy_score\n",
    "from networks.core.functions.activations import ReLU, Sigmoid\n",
    "X, y = ds.load_wine(return_X_y=True)"
   ]
  },
  {
   "cell_type": "code",
   "execution_count": null,
   "metadata": {},
   "outputs": [],
   "source": [
    "y = y.reshape(178, 1)"
   ]
  },
  {
   "cell_type": "code",
   "execution_count": null,
   "metadata": {},
   "outputs": [],
   "source": [
    "from networks.net import Network\n",
    "from networks.core.layers.layer import Layer\n",
    "from networks.core.functions.activations import ReLU\n",
    "from networks.core.optimizers.optimizer import Adam\n",
    "\n",
    "import matplotlib.pyplot as plt"
   ]
  },
  {
   "cell_type": "code",
   "execution_count": null,
   "metadata": {},
   "outputs": [],
   "source": [
    "def data(size):\n",
    "    X_t = (np.random.rand(size) - 0.5) * 25\n",
    "    Y_y = np.sin(X_t)\n",
    "    return X_t.reshape(size, 1), Y_y.reshspae(size, 1)\n",
    "\n",
    "\n",
    "X_train, Y_train = data(1000)\n",
    "plt.plot(X_train, Y_train, '.')\n",
    "plt.show()"
   ]
  },
  {
   "cell_type": "code",
   "execution_count": null,
   "outputs": [],
   "source": [
    "\n",
    "optimizer = Adam(gamma=.999, alpha=1e-7, beta=0.99)\n",
    "\n",
    "net = Network(max_epochs=1e3)\n",
    "net.add(Layer(X.shape[1]))\n",
    "net.add(Layer(32, ReLU(alpha=0.1)))\n",
    "net.add(Layer(16, ReLU(alpha=0.5)))\n",
    "net.add(Layer(8, ReLU(alpha=0.239)))\n",
    "net.add(Layer(1))\n",
    "net\n"
   ],
   "metadata": {
    "collapsed": false,
    "pycharm": {
     "name": "#%%\n"
    }
   }
  },
  {
   "cell_type": "code",
   "execution_count": null,
   "outputs": [],
   "source": [
    "m = X.shape[1]\n",
    "for i in range(m):\n",
    "    std = np.var(X[:, i])\n",
    "    X[:, i] -= np.mean(X[:, i])\n",
    "    X[:, i] /= std\n",
    "\n",
    "# X\n",
    "net.fit(X, y)\n",
    "\n"
   ],
   "metadata": {
    "collapsed": false,
    "pycharm": {
     "name": "#%%\n"
    }
   }
  },
  {
   "cell_type": "code",
   "execution_count": null,
   "outputs": [],
   "source": [
    "predicted = net.predict(X).reshape(y.shape[0], 1)\n",
    "predicted"
   ],
   "metadata": {
    "collapsed": false,
    "pycharm": {
     "name": "#%%\n"
    }
   }
  },
  {
   "cell_type": "code",
   "execution_count": null,
   "outputs": [],
   "source": [
    "predicted = np.ceil(predicted - 0.5)\n",
    "\n",
    "accuracy_score(predicted, y)\n"
   ],
   "metadata": {
    "collapsed": false,
    "pycharm": {
     "name": "#%%\n"
    }
   }
  }
 ],
 "metadata": {
  "kernelspec": {
   "display_name": "Python 3",
   "language": "python",
   "name": "python3"
  },
  "language_info": {
   "codemirror_mode": {
    "name": "ipython",
    "version": 3
   },
   "file_extension": ".py",
   "mimetype": "text/x-python",
   "name": "python",
   "nbconvert_exporter": "python",
   "pygments_lexer": "ipython3",
   "version": "3.8.5"
  }
 },
 "nbformat": 4,
 "nbformat_minor": 4
}