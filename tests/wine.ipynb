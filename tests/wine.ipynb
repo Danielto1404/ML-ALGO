{
 "cells": [
  {
   "cell_type": "code",
   "execution_count": 133,
   "metadata": {},
   "outputs": [],
   "source": [
    "import sklearn.datasets as ds\n",
    "import numpy as np"
   ]
  },
  {
   "cell_type": "code",
   "execution_count": 134,
   "metadata": {},
   "outputs": [],
   "source": [
    "from sklearn.metrics import accuracy_score\n",
    "from networks.base.function.Activation import ReLU, Sigmoid\n",
    "X, y = ds.load_wine(return_X_y=True)"
   ]
  },
  {
   "cell_type": "code",
   "execution_count": 135,
   "metadata": {},
   "outputs": [],
   "source": [
    "y = y.reshape(178, 1)"
   ]
  },
  {
   "cell_type": "code",
   "execution_count": 136,
   "metadata": {},
   "outputs": [],
   "source": [
    "from networks.Network import Network\n",
    "from networks.base.layer.Layer import Layer\n",
    "from networks.base.function.Activation import ReLU\n",
    "from networks.base.optimizer.Optimizer import Adam\n"
   ]
  },
  {
   "cell_type": "code",
   "execution_count": 137,
   "metadata": {},
   "outputs": [
    {
     "data": {
      "text/plain": "<networks.Network.Network at 0x7f856c1f29a0>"
     },
     "execution_count": 137,
     "metadata": {},
     "output_type": "execute_result"
    }
   ],
   "source": [
    "optimizer = Adam(gamma=.999, alpha=1e-7, beta=0.99)\n",
    "\n",
    "net = Network(max_epochs=1e3)\n",
    "net.add(Layer(X.shape[1]))\n",
    "net.add(Layer(32, ReLU(alpha=0.1)))\n",
    "net.add(Layer(16, ReLU(alpha=0.5)))\n",
    "net.add(Layer(8, ReLU(alpha=0.239)))\n",
    "net.add(Layer(1))\n",
    "net\n"
   ]
  },
  {
   "cell_type": "code",
   "execution_count": 138,
   "outputs": [
    {
     "name": "stderr",
     "output_type": "stream",
     "text": [
      "Epochs: 100%|\u001B[32m██████████\u001B[0m| 1000/1000 [00:58<00:00, 17.19it/s, MSE loss: 0.004424497178955512]\n"
     ]
    }
   ],
   "source": [
    "m = X.shape[1]\n",
    "for i in range(m):\n",
    "    std = np.var(X[:, i])\n",
    "    X[:, i] -= np.mean(X[:, i])\n",
    "    X[:, i] /= std\n",
    "\n",
    "# X\n",
    "net.fit(X, y)\n",
    "\n"
   ],
   "metadata": {
    "collapsed": false,
    "pycharm": {
     "name": "#%%\n"
    }
   }
  },
  {
   "cell_type": "code",
   "execution_count": 139,
   "outputs": [
    {
     "data": {
      "text/plain": "array([[ 0.04018836],\n       [ 0.07133158],\n       [ 0.08232951],\n       [ 0.06350076],\n       [ 0.01049402],\n       [ 0.04343856],\n       [ 0.02929643],\n       [-0.03100725],\n       [ 0.06717135],\n       [ 0.22086706],\n       [ 0.20587725],\n       [ 0.05072355],\n       [ 0.1314177 ],\n       [ 0.06411607],\n       [ 0.15222242],\n       [-0.0178023 ],\n       [ 0.09961214],\n       [-0.04638515],\n       [ 0.09022457],\n       [ 0.15676539],\n       [ 0.17702148],\n       [ 0.10337902],\n       [ 0.09715002],\n       [ 0.21103492],\n       [ 0.11446826],\n       [-0.01848884],\n       [ 0.05692781],\n       [ 0.15963436],\n       [ 0.05639197],\n       [ 0.13024562],\n       [ 0.08344492],\n       [ 0.24384886],\n       [ 0.05470642],\n       [ 0.02578813],\n       [ 0.00793498],\n       [ 0.21932645],\n       [ 0.04142386],\n       [ 0.19009048],\n       [ 0.28402763],\n       [ 0.2664422 ],\n       [ 0.14785445],\n       [ 0.25237223],\n       [ 0.3445582 ],\n       [ 0.29842196],\n       [ 0.29799406],\n       [ 0.22603206],\n       [ 0.30375327],\n       [ 0.50907943],\n       [ 0.21840799],\n       [ 0.21268923],\n       [ 0.68120499],\n       [ 0.44743963],\n       [ 0.24694894],\n       [ 0.12411462],\n       [ 0.43392353],\n       [ 0.59011412],\n       [ 0.26834622],\n       [ 0.16538322],\n       [ 0.49156227],\n       [ 1.20612838],\n       [ 1.1567717 ],\n       [ 1.06846755],\n       [ 1.11587987],\n       [ 1.03718391],\n       [ 1.0654152 ],\n       [ 0.95847722],\n       [ 1.29952681],\n       [ 1.24175692],\n       [ 1.0796058 ],\n       [ 1.55909502],\n       [ 1.02148037],\n       [ 1.25318786],\n       [ 1.09201932],\n       [ 1.12665201],\n       [ 1.41069132],\n       [ 0.85480469],\n       [ 1.11777574],\n       [ 1.00776683],\n       [ 1.00750661],\n       [ 0.98591861],\n       [ 0.79047322],\n       [ 1.06619732],\n       [ 0.92956129],\n       [ 1.17920576],\n       [ 1.17467242],\n       [ 1.00110141],\n       [ 0.76252597],\n       [ 0.99325623],\n       [ 0.9946187 ],\n       [ 0.91318235],\n       [ 0.94708874],\n       [ 1.02684134],\n       [ 1.04204429],\n       [ 0.99755848],\n       [ 0.99401499],\n       [ 1.00030332],\n       [ 1.18673299],\n       [ 0.91989983],\n       [ 1.07712844],\n       [ 0.89094356],\n       [ 0.9398922 ],\n       [ 0.89241394],\n       [ 0.98441029],\n       [ 0.92530186],\n       [ 0.93274971],\n       [ 1.1587928 ],\n       [ 0.87047844],\n       [ 0.93909259],\n       [ 0.93472452],\n       [ 1.00542336],\n       [ 1.11952616],\n       [ 1.04796832],\n       [ 1.11932766],\n       [ 0.92913411],\n       [ 0.99190244],\n       [ 0.53872904],\n       [ 1.03055099],\n       [ 0.90536058],\n       [ 0.96137674],\n       [ 0.99946847],\n       [ 1.06627919],\n       [ 1.04076285],\n       [ 1.08193059],\n       [ 1.07760068],\n       [ 1.11899634],\n       [ 1.0011523 ],\n       [ 1.02009326],\n       [ 1.14794478],\n       [ 0.96760959],\n       [ 1.0638848 ],\n       [ 1.85739192],\n       [ 1.86182634],\n       [ 1.94626345],\n       [ 1.90788694],\n       [ 2.14180687],\n       [ 2.0534918 ],\n       [ 2.07908459],\n       [ 1.99998121],\n       [ 2.02562613],\n       [ 2.04589122],\n       [ 2.00025838],\n       [ 2.01442788],\n       [ 1.98736498],\n       [ 1.89031634],\n       [ 1.81735067],\n       [ 1.98694279],\n       [ 1.87472595],\n       [ 1.93725724],\n       [ 1.97846928],\n       [ 1.83070096],\n       [ 1.83946384],\n       [ 1.84891691],\n       [ 1.84356114],\n       [ 2.02671833],\n       [ 1.92336228],\n       [ 1.98110442],\n       [ 1.94725841],\n       [ 2.00294827],\n       [ 1.92971681],\n       [ 1.92517611],\n       [ 1.94656874],\n       [ 1.84183881],\n       [ 1.91636675],\n       [ 1.81386102],\n       [ 1.90073366],\n       [ 1.92291842],\n       [ 1.86516048],\n       [ 1.89643047],\n       [ 1.88061923],\n       [ 1.87238635],\n       [ 1.8635008 ],\n       [ 2.04508831],\n       [ 1.97615829],\n       [ 1.95998557],\n       [ 1.96474112],\n       [ 1.92687234],\n       [ 1.92083254],\n       [ 1.97315781]])"
     },
     "execution_count": 139,
     "metadata": {},
     "output_type": "execute_result"
    }
   ],
   "source": [
    "predicted = net.predict(X).reshape(y.shape[0], 1)\n",
    "predicted"
   ],
   "metadata": {
    "collapsed": false,
    "pycharm": {
     "name": "#%%\n"
    }
   }
  },
  {
   "cell_type": "code",
   "execution_count": 140,
   "outputs": [
    {
     "data": {
      "text/plain": "0.9775280898876404"
     },
     "execution_count": 140,
     "metadata": {},
     "output_type": "execute_result"
    }
   ],
   "source": [
    "predicted = np.ceil(predicted - 0.5)\n",
    "\n",
    "accuracy_score(predicted, y)\n"
   ],
   "metadata": {
    "collapsed": false,
    "pycharm": {
     "name": "#%%\n"
    }
   }
  }
 ],
 "metadata": {
  "kernelspec": {
   "display_name": "Python 3",
   "language": "python",
   "name": "python3"
  },
  "language_info": {
   "codemirror_mode": {
    "name": "ipython",
    "version": 3
   },
   "file_extension": ".py",
   "mimetype": "text/x-python",
   "name": "python",
   "nbconvert_exporter": "python",
   "pygments_lexer": "ipython3",
   "version": "3.8.5"
  }
 },
 "nbformat": 4,
 "nbformat_minor": 4
}