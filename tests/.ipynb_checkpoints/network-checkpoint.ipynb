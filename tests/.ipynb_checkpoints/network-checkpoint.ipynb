{
 "cells": [
  {
   "cell_type": "code",
   "execution_count": 71,
   "metadata": {
    "collapsed": true
   },
   "outputs": [],
   "source": [
    "from networks.Network import Network\n",
    "import numpy as np\n",
    "from networks.base.function.Function import ReLU\n",
    "from networks.base.function.Loss import MSE\n",
    "from networks.base.layer.Layer import Layer\n",
    "\n",
    "\n",
    "\n",
    "def f(x1, x2, x3):\n",
    "    return x1 ** 2 + 10 * x2 + 5 * x3\n"
   ]
  },
  {
   "cell_type": "code",
   "execution_count": 72,
   "metadata": {
    "pycharm": {
     "name": "#%%\n"
    }
   },
   "outputs": [],
   "source": [
    "net = Network(max_iterations=4e6, loss=MSE())\n",
    "net.add(Layer(3))\n",
    "net.add(Layer(30, ReLU()))\n",
    "net.add(Layer(30, ReLU()))\n",
    "# net.add(Layer(30, ReLU()))\n",
    "net.add(Layer(1))"
   ]
  },
  {
   "cell_type": "code",
   "execution_count": 73,
   "metadata": {
    "pycharm": {
     "name": "#%%\n"
    }
   },
   "outputs": [
    {
     "name": "stderr",
     "output_type": "stream",
     "text": [
      "100%|██████████| 4000000/4000000 [08:23<00:00, 7941.24it/s]\n"
     ]
    }
   ],
   "source": [
    "xs = np.random.rand(5000, 3)\n",
    "ys = np.array([f(*a) for a  in xs]).reshape(5000, 1)\n",
    "\n",
    "net.fit(xs, ys)"
   ]
  },
  {
   "cell_type": "code",
   "execution_count": 74,
   "metadata": {
    "pycharm": {
     "name": "#%%\n"
    }
   },
   "outputs": [
    {
     "data": {
      "text/plain": [
       "array([[[7.42183166]]])"
      ]
     },
     "execution_count": 74,
     "metadata": {},
     "output_type": "execute_result"
    }
   ],
   "source": [
    "x = [0.5, 0.5, 0.5]\n",
    "net.predict([x])\n",
    "# f(*x)"
   ]
  }
 ],
 "metadata": {
  "kernelspec": {
   "display_name": "Python 3",
   "language": "python",
   "name": "python3"
  },
  "language_info": {
   "codemirror_mode": {
    "name": "ipython",
    "version": 3
   },
   "file_extension": ".py",
   "mimetype": "text/x-python",
   "name": "python",
   "nbconvert_exporter": "python",
   "pygments_lexer": "ipython3",
   "version": "3.8.5"
  }
 },
 "nbformat": 4,
 "nbformat_minor": 1
}
