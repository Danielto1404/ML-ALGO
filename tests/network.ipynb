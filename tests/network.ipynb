{
 "cells": [
  {
   "cell_type": "code",
   "execution_count": 7,
   "metadata": {
    "collapsed": true
   },
   "outputs": [],
   "source": [
    "from networks.Network import Network\n",
    "import numpy as np\n",
    "from networks.base.function.Function import ReLU\n",
    "from networks.base.function.Loss import MSE\n",
    "from networks.base.layer.Layer import Layer\n",
    "\n",
    "\n",
    "\n",
    "def f(x1, x2, x3):\n",
    "    return x1 ** 2 + 10 * x2 + 5 * x3\n"
   ]
  },
  {
   "cell_type": "code",
   "execution_count": 8,
   "metadata": {
    "pycharm": {
     "name": "#%%\n"
    }
   },
   "outputs": [],
   "source": [
    "net = Network(max_iterations=4e5, loss=MSE())\n",
    "net.add(Layer(3))\n",
    "net.add(Layer(30, ReLU()))\n",
    "net.add(Layer(30, ReLU()))\n",
    "# net.add(Layer(30, ReLU()))\n",
    "net.add(Layer(1))"
   ]
  },
  {
   "cell_type": "code",
   "execution_count": 9,
   "metadata": {
    "pycharm": {
     "name": "#%%\n"
    }
   },
   "outputs": [
    {
     "name": "stderr",
     "output_type": "stream",
     "text": [
      "100%|\u001B[32m██████████\u001B[0m| 400000/400000 [08:58<00:00, 742.20it/s, MSE loss: 1.2876341225941852]\n"
     ]
    }
   ],
   "source": [
    "xs = np.random.rand(1000, 3) * 10\n",
    "ys = np.array([f(*a) for a  in xs]).reshape(1000, 1)\n",
    "\n",
    "net.fit(xs, ys)"
   ]
  },
  {
   "cell_type": "code",
   "execution_count": 18,
   "metadata": {
    "pycharm": {
     "name": "#%%\n"
    }
   },
   "outputs": [
    {
     "name": "stdout",
     "output_type": "stream",
     "text": [
      "-5\n"
     ]
    },
    {
     "data": {
      "text/plain": "array([[[10.05485122]]])"
     },
     "execution_count": 18,
     "metadata": {},
     "output_type": "execute_result"
    }
   ],
   "source": [
    "x = [0, 0, -1]\n",
    "print(f(*x))\n",
    "net.predict([x])\n",
    "# f(*x)"
   ]
  }
 ],
 "metadata": {
  "kernelspec": {
   "display_name": "Python 3",
   "language": "python",
   "name": "python3"
  },
  "language_info": {
   "codemirror_mode": {
    "name": "ipython",
    "version": 3
   },
   "file_extension": ".py",
   "mimetype": "text/x-python",
   "name": "python",
   "nbconvert_exporter": "python",
   "pygments_lexer": "ipython3",
   "version": "3.8.5"
  }
 },
 "nbformat": 4,
 "nbformat_minor": 1
}